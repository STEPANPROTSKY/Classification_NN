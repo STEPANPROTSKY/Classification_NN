{
 "cells": [
  {
   "cell_type": "markdown",
   "id": "576510d5",
   "metadata": {},
   "source": [
    "## Импорт библиотек"
   ]
  },
  {
   "cell_type": "code",
   "execution_count": 1,
   "id": "c08b74ff",
   "metadata": {},
   "outputs": [],
   "source": [
    "from ultralytics import YOLO\n",
    "import torch\n",
    "import cv2\n",
    "import mediapipe as mp"
   ]
  },
  {
   "cell_type": "markdown",
   "id": "046d573e",
   "metadata": {},
   "source": [
    "## Загрузка модели"
   ]
  },
  {
   "cell_type": "code",
   "execution_count": 2,
   "id": "db54a2e1",
   "metadata": {},
   "outputs": [
    {
     "name": "stdout",
     "output_type": "stream",
     "text": [
      "Модель работает на устройстве: cuda:0\n"
     ]
    }
   ],
   "source": [
    "# веса лучшей модели\n",
    "model_ = YOLO(\"/home/pinea/work/YOLO_project/runs/classify/MAIN/weights/best.pt\")\n",
    "# для запуска на cpu или gpu\n",
    "model_ = model_.to('cuda:0')\n",
    "# model_ = model_.to('cpu')\n",
    "print(f\"Модель работает на устройстве: {next(model_.parameters()).device}\")"
   ]
  },
  {
   "cell_type": "code",
   "execution_count": null,
   "id": "ace13e74",
   "metadata": {},
   "outputs": [
    {
     "name": "stderr",
     "output_type": "stream",
     "text": [
      "libEGL warning: MESA-LOADER: failed to open swrast: /usr/lib/dri/swrast_dri.so: cannot open shared object file: No such file or directory (search paths /usr/lib/x86_64-linux-gnu/dri:\\$${ORIGIN}/dri:/usr/lib/dri, suffix _dri)\n",
      "\n",
      "libEGL warning: MESA-LOADER: failed to open swrast: /usr/lib/dri/swrast_dri.so: cannot open shared object file: No such file or directory (search paths /usr/lib/x86_64-linux-gnu/dri:\\$${ORIGIN}/dri:/usr/lib/dri, suffix _dri)\n",
      "\n",
      "INFO: Created TensorFlow Lite XNNPACK delegate for CPU.\n"
     ]
    },
    {
     "name": "stderr",
     "output_type": "stream",
     "text": [
      "WARNING: All log messages before absl::InitializeLog() is called are written to STDERR\n",
      "W0000 00:00:1744904413.116611   40998 inference_feedback_manager.cc:114] Feedback manager requires a model with a single signature inference. Disabling support for feedback tensors.\n"
     ]
    }
   ],
   "source": [
    "# для обнаружения области с лицом на изображении используется MediaPipe\n",
    "mp_face_detection = mp.solutions.face_detection\n",
    "face_detection = mp_face_detection.FaceDetection(model_selection=1, min_detection_confidence=0.5)"
   ]
  },
  {
   "cell_type": "code",
   "execution_count": 4,
   "id": "acd2607e",
   "metadata": {},
   "outputs": [],
   "source": [
    "def detect_face(frame):\n",
    "    '''обнаружение лица на изображении/кадре из видео, чтобы получить в качестве изображения область с лицом.'''\n",
    "    if isinstance(frame, str):\n",
    "        frame = cv2.imread(frame)\n",
    "    results = face_detection.process(frame)\n",
    "    \n",
    "    if results.detections:\n",
    "    # получение данных об обнаруженных областях\n",
    "        for i in results.detections:\n",
    "            relative_bounding_box = i.location_data.relative_bounding_box\n",
    "            \n",
    "            # получение координат области\n",
    "            w = int(relative_bounding_box.width * frame.shape[1])\n",
    "            h = int(relative_bounding_box.height * frame.shape[0])\n",
    "            x = max(0, int(relative_bounding_box.xmin * frame.shape[1]) - int(w * 0.125))  \n",
    "            y = max(0, int(relative_bounding_box.ymin * frame.shape[0]) - int(h * 0.125))  \n",
    "\n",
    "            # возвращает обрезанное изображение(область с лицом)\n",
    "            return frame[y:y+int(h*1.25), x:x+int(w*1.25)]\n",
    "    else: raise ValueError('лица не обнаружены')"
   ]
  },
  {
   "cell_type": "code",
   "execution_count": null,
   "id": "480d5afa",
   "metadata": {},
   "outputs": [
    {
     "name": "stdout",
     "output_type": "stream",
     "text": [
      "Изображение: fake\n"
     ]
    }
   ],
   "source": [
    "def prediction_image(image, model):\n",
    "    \"\"\"Для обработки фото\"\"\"\n",
    "    result = model.predict(source=detect_face(image), verbose=False)\n",
    "    result[0].probs.top1\n",
    "    class_name = result[0].names[result[0].probs.top1]\n",
    "    print(f\"Изображение: {class_name}\")\n",
    "    \n",
    "prediction_image(\"test_data/test.jpg\", model_)"
   ]
  },
  {
   "cell_type": "code",
   "execution_count": null,
   "id": "b7d1655b",
   "metadata": {},
   "outputs": [
    {
     "name": "stdout",
     "output_type": "stream",
     "text": [
      "Процент фейковых кадров: 83.67%\n",
      "Процент реальных кадров: 16.33%\n",
      "Class Counts: {'fake': 251, 'real': 49}\n"
     ]
    }
   ],
   "source": [
    "def prediction_video(video_path, model):\n",
    "    '''метод для обработки видео'''\n",
    "    class_counts={'fake' : 0, 'real' : 0}\n",
    "\n",
    "    cap = cv2.VideoCapture(video_path)\n",
    "\n",
    "    if not cap.isOpened():\n",
    "        raise ValueError(\"Не удалось открыть видеофайл\")\n",
    "\n",
    "    while cap.isOpened():\n",
    "        ret, frame = cap.read()\n",
    "        if ret != True:\n",
    "            break \n",
    "\n",
    "        result = model.predict(source=detect_face(frame), verbose=False)\n",
    "        \n",
    "        class_name = result[0].names[result[0].probs.top1]\n",
    "\n",
    "        class_counts[class_name if class_name == 'fake' else 'real'] += 1\n",
    "    fake_percentage = (class_counts['fake'] / (class_counts['fake'] + class_counts['real'])) * 100\n",
    "    real_percentage = (class_counts['real'] / (class_counts['fake'] + class_counts['real'])) * 100\n",
    "    \n",
    "    print(f\"Процент фейковых кадров: {fake_percentage:.2f}%\")\n",
    "    print(f\"Процент реальных кадров: {real_percentage:.2f}%\")\n",
    "    print(f\"Class Counts: {class_counts}\")\n",
    "\n",
    "prediction_video(\"test_data/test.mp4\", model_)"
   ]
  }
 ],
 "metadata": {
  "kernelspec": {
   "display_name": "u-env",
   "language": "python",
   "name": "python3"
  },
  "language_info": {
   "codemirror_mode": {
    "name": "ipython",
    "version": 3
   },
   "file_extension": ".py",
   "mimetype": "text/x-python",
   "name": "python",
   "nbconvert_exporter": "python",
   "pygments_lexer": "ipython3",
   "version": "3.11.11"
  }
 },
 "nbformat": 4,
 "nbformat_minor": 5
}
