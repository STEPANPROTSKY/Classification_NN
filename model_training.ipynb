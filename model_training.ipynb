{
 "cells": [
  {
   "cell_type": "markdown",
   "metadata": {},
   "source": [
    "# Импорт библиотек"
   ]
  },
  {
   "cell_type": "code",
   "execution_count": null,
   "metadata": {},
   "outputs": [],
   "source": [
    "from ultralytics import YOLO\n",
    "import torch\n",
    "import numpy as np\n",
    "import cv2"
   ]
  },
  {
   "cell_type": "markdown",
   "metadata": {},
   "source": [
    "# Модель YOLOv11"
   ]
  },
  {
   "cell_type": "markdown",
   "metadata": {},
   "source": [
    "### проверка доступности gpu"
   ]
  },
  {
   "cell_type": "code",
   "execution_count": 14,
   "metadata": {},
   "outputs": [
    {
     "name": "stdout",
     "output_type": "stream",
     "text": [
      "True\n",
      "1\n",
      "NVIDIA GeForce RTX 4070 SUPER\n"
     ]
    }
   ],
   "source": [
    "print(torch.cuda.is_available())\n",
    "print(torch.cuda.device_count())\n",
    "print(torch.cuda.get_device_name())"
   ]
  },
  {
   "cell_type": "markdown",
   "metadata": {},
   "source": [
    "### Загрузка модели"
   ]
  },
  {
   "cell_type": "code",
   "execution_count": null,
   "metadata": {},
   "outputs": [],
   "source": [
    "model = YOLO(\"yolo11m-cls.pt\")\n",
    "\n",
    "# пространнство поиска параметров модели(опционально)\n",
    "search_space = {\n",
    "    \"lr0\": (1e-5, 1e-1),\n",
    "    \"degrees\": (0.0, 45.0),\n",
    "    \"lrf\": (0.0001, 0.1),\n",
    "    \"momentum\": (0.5, 0.98)\n",
    "}"
   ]
  },
  {
   "cell_type": "markdown",
   "metadata": {},
   "source": [
    "### Обучение модели"
   ]
  },
  {
   "cell_type": "code",
   "execution_count": null,
   "metadata": {},
   "outputs": [
    {
     "name": "stdout",
     "output_type": "stream",
     "text": [
      "New https://pypi.org/project/ultralytics/8.3.86 available 😃 Update with 'pip install -U ultralytics'\n",
      "Ultralytics 8.3.78 🚀 Python-3.11.11 torch-2.5.1 CUDA:0 (NVIDIA GeForce RTX 4070 SUPER, 12282MiB)\n",
      "\u001b[34m\u001b[1mengine/trainer: \u001b[0mtask=classify, mode=train, model=yolo11m-cls.pt, data=/home/pinea/work/YOLO_project/Main_data, epochs=100, time=None, patience=15, batch=-1, imgsz=640, save=True, save_period=-1, cache=False, device=0, workers=8, project=None, name=train2, exist_ok=False, pretrained=True, optimizer=SGD, verbose=True, seed=0, deterministic=True, single_cls=False, rect=False, cos_lr=False, close_mosaic=10, resume=False, amp=True, fraction=1.0, profile=False, freeze=None, multi_scale=False, overlap_mask=True, mask_ratio=4, dropout=0.0, val=True, split=val, save_json=False, save_hybrid=False, conf=None, iou=0.7, max_det=300, half=False, dnn=False, plots=True, source=None, vid_stride=1, stream_buffer=False, visualize=False, augment=False, agnostic_nms=False, classes=None, retina_masks=False, embed=None, show=False, save_frames=False, save_txt=False, save_conf=False, save_crop=False, show_labels=True, show_conf=True, show_boxes=True, line_width=None, format=torchscript, keras=False, optimize=False, int8=False, dynamic=False, simplify=True, opset=None, workspace=None, nms=False, lr0=0.01, lrf=0.01, momentum=0.937, weight_decay=0.0005, warmup_epochs=3.0, warmup_momentum=0.8, warmup_bias_lr=0.1, box=7.5, cls=0.5, dfl=1.5, pose=12.0, kobj=1.0, nbs=64, hsv_h=0.015, hsv_s=0.7, hsv_v=0.4, degrees=0.0, translate=0.1, scale=0.5, shear=0.0, perspective=0.0, flipud=0.0, fliplr=0.5, bgr=0.0, mosaic=1.0, mixup=0.0, copy_paste=0.0, copy_paste_mode=flip, auto_augment=randaugment, erasing=0.4, crop_fraction=1.0, cfg=None, tracker=botsort.yaml, save_dir=runs/classify/train2\n",
      "\u001b[34m\u001b[1mtrain:\u001b[0m /home/pinea/work/YOLO_project/Main_data/train... found 3564 images in 2 classes ✅ \n",
      "\u001b[34m\u001b[1mval:\u001b[0m /home/pinea/work/YOLO_project/Main_data/val... found 465 images in 2 classes ✅ \n",
      "\u001b[34m\u001b[1mtest:\u001b[0m /home/pinea/work/YOLO_project/Main_data/test... found 104 images in 2 classes ✅ \n",
      "Overriding model.yaml nc=80 with nc=2\n",
      "\n",
      "                   from  n    params  module                                       arguments                     \n",
      "  0                  -1  1      1856  ultralytics.nn.modules.conv.Conv             [3, 64, 3, 2]                 \n",
      "  1                  -1  1     73984  ultralytics.nn.modules.conv.Conv             [64, 128, 3, 2]               \n",
      "  2                  -1  1    111872  ultralytics.nn.modules.block.C3k2            [128, 256, 1, True, 0.25]     \n",
      "  3                  -1  1    590336  ultralytics.nn.modules.conv.Conv             [256, 256, 3, 2]              \n",
      "  4                  -1  1    444928  ultralytics.nn.modules.block.C3k2            [256, 512, 1, True, 0.25]     \n",
      "  5                  -1  1   2360320  ultralytics.nn.modules.conv.Conv             [512, 512, 3, 2]              \n",
      "  6                  -1  1   1380352  ultralytics.nn.modules.block.C3k2            [512, 512, 1, True]           \n",
      "  7                  -1  1   2360320  ultralytics.nn.modules.conv.Conv             [512, 512, 3, 2]              \n",
      "  8                  -1  1   1380352  ultralytics.nn.modules.block.C3k2            [512, 512, 1, True]           \n",
      "  9                  -1  1    990976  ultralytics.nn.modules.block.C2PSA           [512, 512, 1]                 \n",
      " 10                  -1  1    660482  ultralytics.nn.modules.head.Classify         [512, 2]                      \n",
      "YOLO11m-cls summary: 106 layers, 10,355,778 parameters, 10,355,778 gradients\n",
      "Transferred 294/296 items from pretrained weights\n",
      "\u001b[34m\u001b[1mAMP: \u001b[0mrunning Automatic Mixed Precision (AMP) checks...\n",
      "\u001b[34m\u001b[1mAMP: \u001b[0mchecks passed ✅\n",
      "\u001b[34m\u001b[1mAutoBatch: \u001b[0mComputing optimal batch size for imgsz=640 at 60.0% CUDA memory utilization.\n",
      "\u001b[34m\u001b[1mAutoBatch: \u001b[0mCUDA:0 (NVIDIA GeForce RTX 4070 SUPER) 11.99G total, 0.14G reserved, 0.12G allocated, 11.73G free\n",
      "      Params      GFLOPs  GPU_mem (GB)  forward (ms) backward (ms)                   input                  output\n",
      "    10355778           0         0.531         77.27         233.9        (1, 3, 640, 640)                  (1, 2)\n",
      "    10355778           0         0.927         52.12         45.84        (2, 3, 640, 640)                  (2, 2)\n",
      "    10355778           0         1.718         52.31          37.4        (4, 3, 640, 640)                  (4, 2)\n",
      "    10355778           0         2.837         69.42         52.16        (8, 3, 640, 640)                  (8, 2)\n",
      "    10355778           0         5.817         81.37         89.55       (16, 3, 640, 640)                 (16, 2)\n",
      "\u001b[34m\u001b[1mAutoBatch: \u001b[0mUsing batch-size 21 for CUDA:0 7.22G/11.99G (60%) ✅\n"
     ]
    },
    {
     "name": "stderr",
     "output_type": "stream",
     "text": [
      "\u001b[34m\u001b[1mtrain: \u001b[0mScanning /home/pinea/work/YOLO_project/Main_data/train... 3564 images, 0 corrupt: 100%|██████████| 3564/3564 [00:00<?, ?it/s]\n",
      "\u001b[34m\u001b[1mval: \u001b[0mScanning /home/pinea/work/YOLO_project/Main_data/val... 465 images, 0 corrupt: 100%|██████████| 465/465 [00:00<?, ?it/s]\n"
     ]
    },
    {
     "name": "stdout",
     "output_type": "stream",
     "text": [
      "\u001b[34m\u001b[1moptimizer:\u001b[0m SGD(lr=0.01, momentum=0.937) with parameter groups 49 weight(decay=0.0), 50 weight(decay=0.0004921875), 50 bias(decay=0.0)\n",
      "Image sizes 640 train, 640 val\n",
      "Using 8 dataloader workers\n",
      "Logging results to \u001b[1mruns/classify/train2\u001b[0m\n",
      "Starting training for 100 epochs...\n",
      "\n",
      "      Epoch    GPU_mem       loss  Instances       Size\n"
     ]
    },
    {
     "name": "stderr",
     "output_type": "stream",
     "text": [
      "      1/100      7.23G      0.675         15        640: 100%|██████████| 170/170 [00:39<00:00,  4.28it/s]\n",
      "               classes   top1_acc   top5_acc: 100%|██████████| 12/12 [00:01<00:00, 10.34it/s]"
     ]
    },
    {
     "name": "stdout",
     "output_type": "stream",
     "text": [
      "                   all      0.518          1\n"
     ]
    },
    {
     "name": "stderr",
     "output_type": "stream",
     "text": [
      "\n"
     ]
    },
    {
     "name": "stdout",
     "output_type": "stream",
     "text": [
      "\n",
      "      Epoch    GPU_mem       loss  Instances       Size\n"
     ]
    },
    {
     "name": "stderr",
     "output_type": "stream",
     "text": [
      "      2/100      7.27G     0.5823         15        640: 100%|██████████| 170/170 [00:35<00:00,  4.79it/s]\n",
      "               classes   top1_acc   top5_acc: 100%|██████████| 12/12 [00:01<00:00, 10.71it/s]"
     ]
    },
    {
     "name": "stdout",
     "output_type": "stream",
     "text": [
      "                   all      0.553          1\n"
     ]
    },
    {
     "name": "stderr",
     "output_type": "stream",
     "text": [
      "\n"
     ]
    },
    {
     "name": "stdout",
     "output_type": "stream",
     "text": [
      "\n",
      "      Epoch    GPU_mem       loss  Instances       Size\n"
     ]
    },
    {
     "name": "stderr",
     "output_type": "stream",
     "text": [
      "      3/100      7.27G     0.5563         15        640: 100%|██████████| 170/170 [00:35<00:00,  4.77it/s]\n",
      "               classes   top1_acc   top5_acc: 100%|██████████| 12/12 [00:04<00:00,  2.70it/s]"
     ]
    },
    {
     "name": "stdout",
     "output_type": "stream",
     "text": [
      "                   all      0.533          1\n"
     ]
    },
    {
     "name": "stderr",
     "output_type": "stream",
     "text": [
      "\n"
     ]
    },
    {
     "name": "stdout",
     "output_type": "stream",
     "text": [
      "\n",
      "      Epoch    GPU_mem       loss  Instances       Size\n"
     ]
    },
    {
     "name": "stderr",
     "output_type": "stream",
     "text": [
      "      4/100      7.27G     0.5753         15        640: 100%|██████████| 170/170 [00:34<00:00,  4.91it/s]\n",
      "               classes   top1_acc   top5_acc: 100%|██████████| 12/12 [00:01<00:00, 10.55it/s]"
     ]
    },
    {
     "name": "stdout",
     "output_type": "stream",
     "text": [
      "                   all       0.49          1\n"
     ]
    },
    {
     "name": "stderr",
     "output_type": "stream",
     "text": [
      "\n"
     ]
    },
    {
     "name": "stdout",
     "output_type": "stream",
     "text": [
      "\n",
      "      Epoch    GPU_mem       loss  Instances       Size\n"
     ]
    },
    {
     "name": "stderr",
     "output_type": "stream",
     "text": [
      "      5/100      7.27G     0.5679         15        640: 100%|██████████| 170/170 [00:34<00:00,  4.87it/s]\n",
      "               classes   top1_acc   top5_acc: 100%|██████████| 12/12 [00:01<00:00, 10.62it/s]"
     ]
    },
    {
     "name": "stdout",
     "output_type": "stream",
     "text": [
      "                   all       0.52          1\n"
     ]
    },
    {
     "name": "stderr",
     "output_type": "stream",
     "text": [
      "\n"
     ]
    },
    {
     "name": "stdout",
     "output_type": "stream",
     "text": [
      "\n",
      "      Epoch    GPU_mem       loss  Instances       Size\n"
     ]
    },
    {
     "name": "stderr",
     "output_type": "stream",
     "text": [
      "      6/100      7.24G     0.5641         15        640: 100%|██████████| 170/170 [00:35<00:00,  4.79it/s]\n",
      "               classes   top1_acc   top5_acc: 100%|██████████| 12/12 [00:01<00:00, 10.61it/s]"
     ]
    },
    {
     "name": "stdout",
     "output_type": "stream",
     "text": [
      "                   all      0.598          1\n"
     ]
    },
    {
     "name": "stderr",
     "output_type": "stream",
     "text": [
      "\n"
     ]
    },
    {
     "name": "stdout",
     "output_type": "stream",
     "text": [
      "\n",
      "      Epoch    GPU_mem       loss  Instances       Size\n"
     ]
    },
    {
     "name": "stderr",
     "output_type": "stream",
     "text": [
      "      7/100      7.28G     0.5039         15        640: 100%|██████████| 170/170 [00:35<00:00,  4.84it/s]\n",
      "               classes   top1_acc   top5_acc: 100%|██████████| 12/12 [00:01<00:00, 10.56it/s]"
     ]
    },
    {
     "name": "stdout",
     "output_type": "stream",
     "text": [
      "                   all      0.622          1\n"
     ]
    },
    {
     "name": "stderr",
     "output_type": "stream",
     "text": [
      "\n"
     ]
    },
    {
     "name": "stdout",
     "output_type": "stream",
     "text": [
      "\n",
      "      Epoch    GPU_mem       loss  Instances       Size\n"
     ]
    },
    {
     "name": "stderr",
     "output_type": "stream",
     "text": [
      "      8/100      7.27G     0.4489         15        640: 100%|██████████| 170/170 [00:35<00:00,  4.74it/s]\n",
      "               classes   top1_acc   top5_acc: 100%|██████████| 12/12 [00:01<00:00, 10.65it/s]"
     ]
    },
    {
     "name": "stdout",
     "output_type": "stream",
     "text": [
      "                   all      0.508          1\n"
     ]
    },
    {
     "name": "stderr",
     "output_type": "stream",
     "text": [
      "\n"
     ]
    },
    {
     "name": "stdout",
     "output_type": "stream",
     "text": [
      "\n",
      "      Epoch    GPU_mem       loss  Instances       Size\n"
     ]
    },
    {
     "name": "stderr",
     "output_type": "stream",
     "text": [
      "      9/100      7.25G     0.3994         15        640: 100%|██████████| 170/170 [00:34<00:00,  4.91it/s]\n",
      "               classes   top1_acc   top5_acc: 100%|██████████| 12/12 [00:01<00:00, 10.62it/s]"
     ]
    },
    {
     "name": "stdout",
     "output_type": "stream",
     "text": [
      "                   all      0.587          1\n"
     ]
    },
    {
     "name": "stderr",
     "output_type": "stream",
     "text": [
      "\n"
     ]
    },
    {
     "name": "stdout",
     "output_type": "stream",
     "text": [
      "\n",
      "      Epoch    GPU_mem       loss  Instances       Size\n"
     ]
    },
    {
     "name": "stderr",
     "output_type": "stream",
     "text": [
      "     10/100      7.28G     0.3792         15        640: 100%|██████████| 170/170 [00:34<00:00,  4.88it/s]\n",
      "               classes   top1_acc   top5_acc: 100%|██████████| 12/12 [00:01<00:00, 10.62it/s]"
     ]
    },
    {
     "name": "stdout",
     "output_type": "stream",
     "text": [
      "                   all      0.475          1\n"
     ]
    },
    {
     "name": "stderr",
     "output_type": "stream",
     "text": [
      "\n"
     ]
    },
    {
     "name": "stdout",
     "output_type": "stream",
     "text": [
      "\n",
      "      Epoch    GPU_mem       loss  Instances       Size\n"
     ]
    },
    {
     "name": "stderr",
     "output_type": "stream",
     "text": [
      "     11/100      7.27G     0.3366         15        640: 100%|██████████| 170/170 [00:35<00:00,  4.80it/s]\n",
      "               classes   top1_acc   top5_acc: 100%|██████████| 12/12 [00:01<00:00, 10.56it/s]"
     ]
    },
    {
     "name": "stdout",
     "output_type": "stream",
     "text": [
      "                   all      0.613          1\n"
     ]
    },
    {
     "name": "stderr",
     "output_type": "stream",
     "text": [
      "\n"
     ]
    },
    {
     "name": "stdout",
     "output_type": "stream",
     "text": [
      "\n",
      "      Epoch    GPU_mem       loss  Instances       Size\n"
     ]
    },
    {
     "name": "stderr",
     "output_type": "stream",
     "text": [
      "     12/100      7.25G      0.293         15        640: 100%|██████████| 170/170 [00:36<00:00,  4.69it/s]\n",
      "               classes   top1_acc   top5_acc: 100%|██████████| 12/12 [00:01<00:00, 10.64it/s]"
     ]
    },
    {
     "name": "stdout",
     "output_type": "stream",
     "text": [
      "                   all        0.6          1\n"
     ]
    },
    {
     "name": "stderr",
     "output_type": "stream",
     "text": [
      "\n"
     ]
    },
    {
     "name": "stdout",
     "output_type": "stream",
     "text": [
      "\n",
      "      Epoch    GPU_mem       loss  Instances       Size\n"
     ]
    },
    {
     "name": "stderr",
     "output_type": "stream",
     "text": [
      "     13/100      7.28G     0.2995         15        640: 100%|██████████| 170/170 [00:34<00:00,  4.92it/s]\n",
      "               classes   top1_acc   top5_acc: 100%|██████████| 12/12 [00:01<00:00, 10.47it/s]"
     ]
    },
    {
     "name": "stdout",
     "output_type": "stream",
     "text": [
      "                   all      0.561          1\n"
     ]
    },
    {
     "name": "stderr",
     "output_type": "stream",
     "text": [
      "\n"
     ]
    },
    {
     "name": "stdout",
     "output_type": "stream",
     "text": [
      "\n",
      "      Epoch    GPU_mem       loss  Instances       Size\n"
     ]
    },
    {
     "name": "stderr",
     "output_type": "stream",
     "text": [
      "     14/100      7.27G     0.2353         15        640: 100%|██████████| 170/170 [00:34<00:00,  4.87it/s]\n",
      "               classes   top1_acc   top5_acc: 100%|██████████| 12/12 [00:01<00:00, 10.65it/s]"
     ]
    },
    {
     "name": "stdout",
     "output_type": "stream",
     "text": [
      "                   all      0.542          1\n"
     ]
    },
    {
     "name": "stderr",
     "output_type": "stream",
     "text": [
      "\n"
     ]
    },
    {
     "name": "stdout",
     "output_type": "stream",
     "text": [
      "\n",
      "      Epoch    GPU_mem       loss  Instances       Size\n"
     ]
    },
    {
     "name": "stderr",
     "output_type": "stream",
     "text": [
      "     15/100      7.25G     0.2329         15        640: 100%|██████████| 170/170 [00:35<00:00,  4.78it/s]\n",
      "               classes   top1_acc   top5_acc: 100%|██████████| 12/12 [00:01<00:00, 10.54it/s]"
     ]
    },
    {
     "name": "stdout",
     "output_type": "stream",
     "text": [
      "                   all      0.578          1\n"
     ]
    },
    {
     "name": "stderr",
     "output_type": "stream",
     "text": [
      "\n"
     ]
    },
    {
     "name": "stdout",
     "output_type": "stream",
     "text": [
      "\n",
      "      Epoch    GPU_mem       loss  Instances       Size\n"
     ]
    },
    {
     "name": "stderr",
     "output_type": "stream",
     "text": [
      "     16/100      7.27G     0.2162         15        640: 100%|██████████| 170/170 [00:35<00:00,  4.82it/s]\n",
      "               classes   top1_acc   top5_acc: 100%|██████████| 12/12 [00:01<00:00, 10.64it/s]"
     ]
    },
    {
     "name": "stdout",
     "output_type": "stream",
     "text": [
      "                   all       0.54          1\n"
     ]
    },
    {
     "name": "stderr",
     "output_type": "stream",
     "text": [
      "\n"
     ]
    },
    {
     "name": "stdout",
     "output_type": "stream",
     "text": [
      "\n",
      "      Epoch    GPU_mem       loss  Instances       Size\n"
     ]
    },
    {
     "name": "stderr",
     "output_type": "stream",
     "text": [
      "     17/100      7.28G     0.2277         15        640: 100%|██████████| 170/170 [00:35<00:00,  4.82it/s]\n",
      "               classes   top1_acc   top5_acc: 100%|██████████| 12/12 [00:01<00:00, 10.67it/s]"
     ]
    },
    {
     "name": "stdout",
     "output_type": "stream",
     "text": [
      "                   all      0.656          1\n"
     ]
    },
    {
     "name": "stderr",
     "output_type": "stream",
     "text": [
      "\n"
     ]
    },
    {
     "name": "stdout",
     "output_type": "stream",
     "text": [
      "\n",
      "      Epoch    GPU_mem       loss  Instances       Size\n"
     ]
    },
    {
     "name": "stderr",
     "output_type": "stream",
     "text": [
      "     18/100      7.25G     0.2021         15        640: 100%|██████████| 170/170 [00:35<00:00,  4.86it/s]\n",
      "               classes   top1_acc   top5_acc: 100%|██████████| 12/12 [00:01<00:00, 10.63it/s]"
     ]
    },
    {
     "name": "stdout",
     "output_type": "stream",
     "text": [
      "                   all      0.548          1\n"
     ]
    },
    {
     "name": "stderr",
     "output_type": "stream",
     "text": [
      "\n"
     ]
    },
    {
     "name": "stdout",
     "output_type": "stream",
     "text": [
      "\n",
      "      Epoch    GPU_mem       loss  Instances       Size\n"
     ]
    },
    {
     "name": "stderr",
     "output_type": "stream",
     "text": [
      "     19/100      7.28G     0.2082         15        640: 100%|██████████| 170/170 [00:36<00:00,  4.65it/s]\n",
      "               classes   top1_acc   top5_acc: 100%|██████████| 12/12 [00:01<00:00, 10.60it/s]"
     ]
    },
    {
     "name": "stdout",
     "output_type": "stream",
     "text": [
      "                   all      0.568          1\n"
     ]
    },
    {
     "name": "stderr",
     "output_type": "stream",
     "text": [
      "\n"
     ]
    },
    {
     "name": "stdout",
     "output_type": "stream",
     "text": [
      "\n",
      "      Epoch    GPU_mem       loss  Instances       Size\n"
     ]
    },
    {
     "name": "stderr",
     "output_type": "stream",
     "text": [
      "     20/100      7.27G       0.18         15        640: 100%|██████████| 170/170 [00:34<00:00,  4.90it/s]\n",
      "               classes   top1_acc   top5_acc: 100%|██████████| 12/12 [00:01<00:00, 10.65it/s]"
     ]
    },
    {
     "name": "stdout",
     "output_type": "stream",
     "text": [
      "                   all      0.587          1\n"
     ]
    },
    {
     "name": "stderr",
     "output_type": "stream",
     "text": [
      "\n"
     ]
    },
    {
     "name": "stdout",
     "output_type": "stream",
     "text": [
      "\n",
      "      Epoch    GPU_mem       loss  Instances       Size\n"
     ]
    },
    {
     "name": "stderr",
     "output_type": "stream",
     "text": [
      "     21/100      7.24G     0.1645         15        640: 100%|██████████| 170/170 [00:35<00:00,  4.81it/s]\n",
      "               classes   top1_acc   top5_acc: 100%|██████████| 12/12 [00:01<00:00, 10.62it/s]"
     ]
    },
    {
     "name": "stdout",
     "output_type": "stream",
     "text": [
      "                   all      0.682          1\n"
     ]
    },
    {
     "name": "stderr",
     "output_type": "stream",
     "text": [
      "\n"
     ]
    },
    {
     "name": "stdout",
     "output_type": "stream",
     "text": [
      "\n",
      "      Epoch    GPU_mem       loss  Instances       Size\n"
     ]
    },
    {
     "name": "stderr",
     "output_type": "stream",
     "text": [
      "     22/100      7.28G     0.1466         15        640: 100%|██████████| 170/170 [00:35<00:00,  4.79it/s]\n",
      "               classes   top1_acc   top5_acc: 100%|██████████| 12/12 [00:01<00:00, 10.61it/s]"
     ]
    },
    {
     "name": "stdout",
     "output_type": "stream",
     "text": [
      "                   all      0.645          1\n"
     ]
    },
    {
     "name": "stderr",
     "output_type": "stream",
     "text": [
      "\n"
     ]
    },
    {
     "name": "stdout",
     "output_type": "stream",
     "text": [
      "\n",
      "      Epoch    GPU_mem       loss  Instances       Size\n"
     ]
    },
    {
     "name": "stderr",
     "output_type": "stream",
     "text": [
      "     23/100      7.27G     0.1496         15        640: 100%|██████████| 170/170 [00:35<00:00,  4.82it/s]\n",
      "               classes   top1_acc   top5_acc: 100%|██████████| 12/12 [00:01<00:00, 10.63it/s]"
     ]
    },
    {
     "name": "stdout",
     "output_type": "stream",
     "text": [
      "                   all      0.594          1\n"
     ]
    },
    {
     "name": "stderr",
     "output_type": "stream",
     "text": [
      "\n"
     ]
    },
    {
     "name": "stdout",
     "output_type": "stream",
     "text": [
      "\n",
      "      Epoch    GPU_mem       loss  Instances       Size\n"
     ]
    },
    {
     "name": "stderr",
     "output_type": "stream",
     "text": [
      "     24/100      7.25G     0.1494         15        640: 100%|██████████| 170/170 [00:35<00:00,  4.86it/s]\n",
      "               classes   top1_acc   top5_acc: 100%|██████████| 12/12 [00:01<00:00, 10.64it/s]"
     ]
    },
    {
     "name": "stdout",
     "output_type": "stream",
     "text": [
      "                   all      0.568          1\n"
     ]
    },
    {
     "name": "stderr",
     "output_type": "stream",
     "text": [
      "\n"
     ]
    },
    {
     "name": "stdout",
     "output_type": "stream",
     "text": [
      "\n",
      "      Epoch    GPU_mem       loss  Instances       Size\n"
     ]
    },
    {
     "name": "stderr",
     "output_type": "stream",
     "text": [
      "     25/100      7.28G     0.1334         15        640: 100%|██████████| 170/170 [00:35<00:00,  4.76it/s]\n",
      "               classes   top1_acc   top5_acc: 100%|██████████| 12/12 [00:01<00:00, 10.69it/s]"
     ]
    },
    {
     "name": "stdout",
     "output_type": "stream",
     "text": [
      "                   all      0.677          1\n"
     ]
    },
    {
     "name": "stderr",
     "output_type": "stream",
     "text": [
      "\n"
     ]
    },
    {
     "name": "stdout",
     "output_type": "stream",
     "text": [
      "\n",
      "      Epoch    GPU_mem       loss  Instances       Size\n"
     ]
    },
    {
     "name": "stderr",
     "output_type": "stream",
     "text": [
      "     26/100      7.27G     0.1286         15        640: 100%|██████████| 170/170 [00:31<00:00,  5.36it/s]\n",
      "               classes   top1_acc   top5_acc: 100%|██████████| 12/12 [00:04<00:00,  2.83it/s]"
     ]
    },
    {
     "name": "stdout",
     "output_type": "stream",
     "text": [
      "                   all      0.615          1\n"
     ]
    },
    {
     "name": "stderr",
     "output_type": "stream",
     "text": [
      "\n"
     ]
    },
    {
     "name": "stdout",
     "output_type": "stream",
     "text": [
      "\n",
      "      Epoch    GPU_mem       loss  Instances       Size\n"
     ]
    },
    {
     "name": "stderr",
     "output_type": "stream",
     "text": [
      "     27/100      7.25G     0.1033         15        640: 100%|██████████| 170/170 [00:35<00:00,  4.84it/s]\n",
      "               classes   top1_acc   top5_acc: 100%|██████████| 12/12 [00:01<00:00,  9.82it/s]"
     ]
    },
    {
     "name": "stdout",
     "output_type": "stream",
     "text": [
      "                   all      0.583          1\n"
     ]
    },
    {
     "name": "stderr",
     "output_type": "stream",
     "text": [
      "\n"
     ]
    },
    {
     "name": "stdout",
     "output_type": "stream",
     "text": [
      "\n",
      "      Epoch    GPU_mem       loss  Instances       Size\n"
     ]
    },
    {
     "name": "stderr",
     "output_type": "stream",
     "text": [
      "     28/100      7.28G     0.1258         15        640: 100%|██████████| 170/170 [00:35<00:00,  4.81it/s]\n",
      "               classes   top1_acc   top5_acc: 100%|██████████| 12/12 [00:01<00:00, 10.66it/s]"
     ]
    },
    {
     "name": "stdout",
     "output_type": "stream",
     "text": [
      "                   all      0.626          1\n"
     ]
    },
    {
     "name": "stderr",
     "output_type": "stream",
     "text": [
      "\n"
     ]
    },
    {
     "name": "stdout",
     "output_type": "stream",
     "text": [
      "\n",
      "      Epoch    GPU_mem       loss  Instances       Size\n"
     ]
    },
    {
     "name": "stderr",
     "output_type": "stream",
     "text": [
      "     29/100      7.27G     0.1159         15        640: 100%|██████████| 170/170 [00:34<00:00,  4.87it/s]\n",
      "               classes   top1_acc   top5_acc: 100%|██████████| 12/12 [00:01<00:00, 10.64it/s]"
     ]
    },
    {
     "name": "stdout",
     "output_type": "stream",
     "text": [
      "                   all      0.645          1\n"
     ]
    },
    {
     "name": "stderr",
     "output_type": "stream",
     "text": [
      "\n"
     ]
    },
    {
     "name": "stdout",
     "output_type": "stream",
     "text": [
      "\n",
      "      Epoch    GPU_mem       loss  Instances       Size\n"
     ]
    },
    {
     "name": "stderr",
     "output_type": "stream",
     "text": [
      "     30/100      7.25G     0.1001         15        640: 100%|██████████| 170/170 [00:34<00:00,  4.90it/s]\n",
      "               classes   top1_acc   top5_acc: 100%|██████████| 12/12 [00:01<00:00, 10.64it/s]"
     ]
    },
    {
     "name": "stdout",
     "output_type": "stream",
     "text": [
      "                   all      0.699          1\n"
     ]
    },
    {
     "name": "stderr",
     "output_type": "stream",
     "text": [
      "\n"
     ]
    },
    {
     "name": "stdout",
     "output_type": "stream",
     "text": [
      "\n",
      "      Epoch    GPU_mem       loss  Instances       Size\n"
     ]
    },
    {
     "name": "stderr",
     "output_type": "stream",
     "text": [
      "     31/100      7.27G     0.1003         15        640: 100%|██████████| 170/170 [00:35<00:00,  4.75it/s]\n",
      "               classes   top1_acc   top5_acc: 100%|██████████| 12/12 [00:01<00:00, 10.62it/s]"
     ]
    },
    {
     "name": "stdout",
     "output_type": "stream",
     "text": [
      "                   all      0.596          1\n"
     ]
    },
    {
     "name": "stderr",
     "output_type": "stream",
     "text": [
      "\n"
     ]
    },
    {
     "name": "stdout",
     "output_type": "stream",
     "text": [
      "\n",
      "      Epoch    GPU_mem       loss  Instances       Size\n"
     ]
    },
    {
     "name": "stderr",
     "output_type": "stream",
     "text": [
      "     32/100      7.28G    0.08773         15        640: 100%|██████████| 170/170 [00:35<00:00,  4.85it/s]\n",
      "               classes   top1_acc   top5_acc: 100%|██████████| 12/12 [00:01<00:00, 10.35it/s]"
     ]
    },
    {
     "name": "stdout",
     "output_type": "stream",
     "text": [
      "                   all      0.637          1\n"
     ]
    },
    {
     "name": "stderr",
     "output_type": "stream",
     "text": [
      "\n"
     ]
    },
    {
     "name": "stdout",
     "output_type": "stream",
     "text": [
      "\n",
      "      Epoch    GPU_mem       loss  Instances       Size\n"
     ]
    },
    {
     "name": "stderr",
     "output_type": "stream",
     "text": [
      "     33/100      7.25G    0.09093         15        640: 100%|██████████| 170/170 [00:34<00:00,  4.86it/s]\n",
      "               classes   top1_acc   top5_acc: 100%|██████████| 12/12 [00:01<00:00, 10.65it/s]"
     ]
    },
    {
     "name": "stdout",
     "output_type": "stream",
     "text": [
      "                   all      0.637          1\n"
     ]
    },
    {
     "name": "stderr",
     "output_type": "stream",
     "text": [
      "\n"
     ]
    },
    {
     "name": "stdout",
     "output_type": "stream",
     "text": [
      "\n",
      "      Epoch    GPU_mem       loss  Instances       Size\n"
     ]
    },
    {
     "name": "stderr",
     "output_type": "stream",
     "text": [
      "     34/100      7.28G    0.09771         15        640: 100%|██████████| 170/170 [00:35<00:00,  4.82it/s]\n",
      "               classes   top1_acc   top5_acc: 100%|██████████| 12/12 [00:01<00:00, 10.68it/s]"
     ]
    },
    {
     "name": "stdout",
     "output_type": "stream",
     "text": [
      "                   all      0.609          1\n"
     ]
    },
    {
     "name": "stderr",
     "output_type": "stream",
     "text": [
      "\n"
     ]
    },
    {
     "name": "stdout",
     "output_type": "stream",
     "text": [
      "\n",
      "      Epoch    GPU_mem       loss  Instances       Size\n"
     ]
    },
    {
     "name": "stderr",
     "output_type": "stream",
     "text": [
      "     35/100      7.27G    0.08255         15        640: 100%|██████████| 170/170 [00:34<00:00,  4.86it/s]\n",
      "               classes   top1_acc   top5_acc: 100%|██████████| 12/12 [00:01<00:00, 10.41it/s]"
     ]
    },
    {
     "name": "stdout",
     "output_type": "stream",
     "text": [
      "                   all      0.641          1\n"
     ]
    },
    {
     "name": "stderr",
     "output_type": "stream",
     "text": [
      "\n"
     ]
    },
    {
     "name": "stdout",
     "output_type": "stream",
     "text": [
      "\n",
      "      Epoch    GPU_mem       loss  Instances       Size\n"
     ]
    },
    {
     "name": "stderr",
     "output_type": "stream",
     "text": [
      "     36/100      7.24G    0.08396         15        640: 100%|██████████| 170/170 [00:34<00:00,  4.86it/s]\n",
      "               classes   top1_acc   top5_acc: 100%|██████████| 12/12 [00:01<00:00, 10.35it/s]"
     ]
    },
    {
     "name": "stdout",
     "output_type": "stream",
     "text": [
      "                   all      0.658          1\n"
     ]
    },
    {
     "name": "stderr",
     "output_type": "stream",
     "text": [
      "\n"
     ]
    },
    {
     "name": "stdout",
     "output_type": "stream",
     "text": [
      "\n",
      "      Epoch    GPU_mem       loss  Instances       Size\n"
     ]
    },
    {
     "name": "stderr",
     "output_type": "stream",
     "text": [
      "     37/100      7.28G    0.08175         15        640: 100%|██████████| 170/170 [00:35<00:00,  4.78it/s]\n",
      "               classes   top1_acc   top5_acc: 100%|██████████| 12/12 [00:01<00:00, 10.64it/s]"
     ]
    },
    {
     "name": "stdout",
     "output_type": "stream",
     "text": [
      "                   all      0.628          1\n"
     ]
    },
    {
     "name": "stderr",
     "output_type": "stream",
     "text": [
      "\n"
     ]
    },
    {
     "name": "stdout",
     "output_type": "stream",
     "text": [
      "\n",
      "      Epoch    GPU_mem       loss  Instances       Size\n"
     ]
    },
    {
     "name": "stderr",
     "output_type": "stream",
     "text": [
      "     38/100      7.27G    0.09091         15        640: 100%|██████████| 170/170 [00:35<00:00,  4.84it/s]\n",
      "               classes   top1_acc   top5_acc: 100%|██████████| 12/12 [00:01<00:00, 10.61it/s]"
     ]
    },
    {
     "name": "stdout",
     "output_type": "stream",
     "text": [
      "                   all      0.639          1\n"
     ]
    },
    {
     "name": "stderr",
     "output_type": "stream",
     "text": [
      "\n"
     ]
    },
    {
     "name": "stdout",
     "output_type": "stream",
     "text": [
      "\n",
      "      Epoch    GPU_mem       loss  Instances       Size\n"
     ]
    },
    {
     "name": "stderr",
     "output_type": "stream",
     "text": [
      "     39/100      7.25G    0.07895         15        640: 100%|██████████| 170/170 [00:35<00:00,  4.74it/s]\n",
      "               classes   top1_acc   top5_acc: 100%|██████████| 12/12 [00:01<00:00, 10.61it/s]"
     ]
    },
    {
     "name": "stdout",
     "output_type": "stream",
     "text": [
      "                   all      0.596          1\n"
     ]
    },
    {
     "name": "stderr",
     "output_type": "stream",
     "text": [
      "\n"
     ]
    },
    {
     "name": "stdout",
     "output_type": "stream",
     "text": [
      "\n",
      "      Epoch    GPU_mem       loss  Instances       Size\n"
     ]
    },
    {
     "name": "stderr",
     "output_type": "stream",
     "text": [
      "     40/100      7.28G    0.06625         15        640: 100%|██████████| 170/170 [00:35<00:00,  4.78it/s]\n",
      "               classes   top1_acc   top5_acc: 100%|██████████| 12/12 [00:01<00:00, 10.69it/s]"
     ]
    },
    {
     "name": "stdout",
     "output_type": "stream",
     "text": [
      "                   all      0.637          1\n"
     ]
    },
    {
     "name": "stderr",
     "output_type": "stream",
     "text": [
      "\n"
     ]
    },
    {
     "name": "stdout",
     "output_type": "stream",
     "text": [
      "\n",
      "      Epoch    GPU_mem       loss  Instances       Size\n"
     ]
    },
    {
     "name": "stderr",
     "output_type": "stream",
     "text": [
      "     41/100      7.27G    0.06168         15        640: 100%|██████████| 170/170 [00:35<00:00,  4.79it/s]\n",
      "               classes   top1_acc   top5_acc: 100%|██████████| 12/12 [00:01<00:00, 10.64it/s]"
     ]
    },
    {
     "name": "stdout",
     "output_type": "stream",
     "text": [
      "                   all      0.576          1\n"
     ]
    },
    {
     "name": "stderr",
     "output_type": "stream",
     "text": [
      "\n"
     ]
    },
    {
     "name": "stdout",
     "output_type": "stream",
     "text": [
      "\n",
      "      Epoch    GPU_mem       loss  Instances       Size\n"
     ]
    },
    {
     "name": "stderr",
     "output_type": "stream",
     "text": [
      "     42/100      7.25G    0.07585         15        640: 100%|██████████| 170/170 [00:35<00:00,  4.83it/s]\n",
      "               classes   top1_acc   top5_acc: 100%|██████████| 12/12 [00:01<00:00, 10.45it/s]"
     ]
    },
    {
     "name": "stdout",
     "output_type": "stream",
     "text": [
      "                   all      0.583          1\n"
     ]
    },
    {
     "name": "stderr",
     "output_type": "stream",
     "text": [
      "\n"
     ]
    },
    {
     "name": "stdout",
     "output_type": "stream",
     "text": [
      "\n",
      "      Epoch    GPU_mem       loss  Instances       Size\n"
     ]
    },
    {
     "name": "stderr",
     "output_type": "stream",
     "text": [
      "     43/100      7.28G    0.07698         15        640: 100%|██████████| 170/170 [00:35<00:00,  4.74it/s]\n",
      "               classes   top1_acc   top5_acc: 100%|██████████| 12/12 [00:01<00:00, 10.64it/s]"
     ]
    },
    {
     "name": "stdout",
     "output_type": "stream",
     "text": [
      "                   all      0.542          1\n"
     ]
    },
    {
     "name": "stderr",
     "output_type": "stream",
     "text": [
      "\n"
     ]
    },
    {
     "name": "stdout",
     "output_type": "stream",
     "text": [
      "\n",
      "      Epoch    GPU_mem       loss  Instances       Size\n"
     ]
    },
    {
     "name": "stderr",
     "output_type": "stream",
     "text": [
      "     44/100      7.27G    0.06214         15        640: 100%|██████████| 170/170 [00:35<00:00,  4.84it/s]\n",
      "               classes   top1_acc   top5_acc: 100%|██████████| 12/12 [00:01<00:00, 10.68it/s]"
     ]
    },
    {
     "name": "stdout",
     "output_type": "stream",
     "text": [
      "                   all      0.568          1\n"
     ]
    },
    {
     "name": "stderr",
     "output_type": "stream",
     "text": [
      "\n"
     ]
    },
    {
     "name": "stdout",
     "output_type": "stream",
     "text": [
      "\n",
      "      Epoch    GPU_mem       loss  Instances       Size\n"
     ]
    },
    {
     "name": "stderr",
     "output_type": "stream",
     "text": [
      "     45/100      7.25G    0.06028         15        640: 100%|██████████| 170/170 [00:35<00:00,  4.81it/s]\n",
      "               classes   top1_acc   top5_acc: 100%|██████████| 12/12 [00:01<00:00, 10.40it/s]"
     ]
    },
    {
     "name": "stdout",
     "output_type": "stream",
     "text": [
      "                   all      0.613          1\n",
      "\u001b[34m\u001b[1mEarlyStopping: \u001b[0mTraining stopped early as no improvement observed in last 15 epochs. Best results observed at epoch 30, best model saved as best.pt.\n",
      "To update EarlyStopping(patience=15) pass a new patience value, i.e. `patience=300` or use `patience=0` to disable EarlyStopping.\n"
     ]
    },
    {
     "name": "stderr",
     "output_type": "stream",
     "text": [
      "\n"
     ]
    },
    {
     "name": "stdout",
     "output_type": "stream",
     "text": [
      "\n",
      "45 epochs completed in 0.462 hours.\n",
      "Optimizer stripped from runs/classify/train2/weights/last.pt, 20.9MB\n",
      "Optimizer stripped from runs/classify/train2/weights/best.pt, 20.9MB\n",
      "\n",
      "Validating runs/classify/train2/weights/best.pt...\n",
      "Ultralytics 8.3.78 🚀 Python-3.11.11 torch-2.5.1 CUDA:0 (NVIDIA GeForce RTX 4070 SUPER, 12282MiB)\n",
      "YOLO11m-cls summary (fused): 57 layers, 10,344,194 parameters, 0 gradients\n",
      "\u001b[34m\u001b[1mtrain:\u001b[0m /home/pinea/work/YOLO_project/Main_data/train... found 3564 images in 2 classes ✅ \n",
      "\u001b[34m\u001b[1mval:\u001b[0m /home/pinea/work/YOLO_project/Main_data/val... found 465 images in 2 classes ✅ \n",
      "\u001b[34m\u001b[1mtest:\u001b[0m /home/pinea/work/YOLO_project/Main_data/test... found 104 images in 2 classes ✅ \n"
     ]
    },
    {
     "name": "stderr",
     "output_type": "stream",
     "text": [
      "               classes   top1_acc   top5_acc: 100%|██████████| 12/12 [00:05<00:00,  2.40it/s]\n"
     ]
    },
    {
     "name": "stdout",
     "output_type": "stream",
     "text": [
      "                   all      0.699          1\n",
      "Speed: 0.2ms preprocess, 2.1ms inference, 0.0ms loss, 0.0ms postprocess per image\n",
      "Results saved to \u001b[1mruns/classify/train2\u001b[0m\n"
     ]
    }
   ],
   "source": [
    "# .tran - режим тренировки\n",
    "train_results = model.train(\n",
    "    model=\"yolo11m-cls.pt\",\n",
    "    data=\"/home/pinea/work/YOLO_project/Main_data\",  # путь к датасету\n",
    "    epochs=100,  # кол-во эпох\n",
    "    batch=-1, # размер батча(-1 - автоматический выбор размера батча)\n",
    "    imgsz=640,  # размер изображений\n",
    "    device=0,  # выбор устройства для обучения(device=0 или device=0,1,2,3 или device=cpu)\n",
    "    optimizer='SGD', # выбор оптимизатора\n",
    "    patience=15, # ранняя остановка(если 15 эпох нет улучшений, модель завершает процесс обучения)\n",
    ")"
   ]
  },
  {
   "cell_type": "markdown",
   "metadata": {},
   "source": [
    "### Лучшая модель после процесса обучения"
   ]
  },
  {
   "cell_type": "code",
   "execution_count": 25,
   "metadata": {},
   "outputs": [
    {
     "name": "stdout",
     "output_type": "stream",
     "text": [
      "Модель работает на устройстве: cuda:0\n"
     ]
    }
   ],
   "source": [
    "# веса лучшей модели\n",
    "model_ = YOLO(\"/home/pinea/work/YOLO_project/runs/classify/MAIN/weights/best.pt\")\n",
    "# для запуска на cpu или gpu\n",
    "model_ = model_.to('cuda:0')\n",
    "# model_ = model_.to('cpu')\n",
    "print(f\"Модель работает на устройстве: {next(model_.parameters()).device}\")"
   ]
  },
  {
   "cell_type": "markdown",
   "metadata": {},
   "source": [
    "### Результаты модели на валидационных данных"
   ]
  },
  {
   "cell_type": "code",
   "execution_count": null,
   "metadata": {},
   "outputs": [
    {
     "name": "stdout",
     "output_type": "stream",
     "text": [
      "Ultralytics 8.3.105 🚀 Python-3.11.11 torch-2.5.1 CUDA:0 (NVIDIA GeForce RTX 4070 SUPER, 12282MiB)\n",
      "YOLO11m-cls summary (fused): 57 layers, 10,344,194 parameters, 0 gradients\n",
      "\u001b[34m\u001b[1mtrain:\u001b[0m /home/pinea/work/YOLO_project/Main_data/train... found 3564 images in 2 classes ✅ \n",
      "\u001b[34m\u001b[1mval:\u001b[0m /home/pinea/work/YOLO_project/Main_data/val... found 465 images in 2 classes ✅ \n",
      "\u001b[34m\u001b[1mtest:\u001b[0m /home/pinea/work/YOLO_project/Main_data/test... found 104 images in 2 classes ✅ \n"
     ]
    },
    {
     "name": "stderr",
     "output_type": "stream",
     "text": [
      "\u001b[34m\u001b[1mval: \u001b[0mScanning /home/pinea/work/YOLO_project/Main_data/val... 465 images, 0 corrupt: 100%|██████████| 465/465 [00:00<?, ?it/s]\n",
      "               classes   top1_acc   top5_acc: 100%|██████████| 30/30 [00:06<00:00,  4.90it/s]\n"
     ]
    },
    {
     "name": "stdout",
     "output_type": "stream",
     "text": [
      "                   all      0.701          1\n",
      "Speed: 3.3ms preprocess, 3.7ms inference, 0.0ms loss, 0.0ms postprocess per image\n",
      "Results saved to \u001b[1mruns/classify/val\u001b[0m\n",
      "TP: 156\n",
      "TN: 170\n",
      "FP: 62\n",
      "FN: 77\n",
      "accuracy: 0.7011\n",
      "precision: 0.7156\n",
      "recall: 0.6695\n",
      "f1: 0.6918\n",
      "specificity: 0.7328\n"
     ]
    }
   ],
   "source": [
    "# .val - режим валидации, позволяющий оценить качество обученной модели\n",
    "result = model_.val(split=\"val\")\n",
    "confusion_matrix_obj = result.confusion_matrix\n",
    "confusion_matrix = np.array(confusion_matrix_obj.matrix)\n",
    "\n",
    "# извлечение значений из матрици ошибок\n",
    "TP = confusion_matrix_obj.tp_fp()[0][0] # True Positives - правильно классифицированные фейки\n",
    "TN = confusion_matrix_obj.tp_fp()[0][1] # True Negatives - правильно классифицированные реальные изображения\n",
    "FP = confusion_matrix_obj.tp_fp()[1][0] # False Positives - неправильно классифицированные как фейк\n",
    "FN = confusion_matrix_obj.tp_fp()[1][1] # False Negatives - неправильно классифицированные как реальные  \n",
    "\n",
    "# подсчет метрик для оценки качества\n",
    "precision = TP/(TP+FP)\n",
    "recall = TP/(TP+FN)\n",
    "f1 = (2 * precision * recall)/(precision+recall)\n",
    "accuracy = (TP+TN) / confusion_matrix.sum()\n",
    "specificity = TN / (TN+FP)\n",
    "accuracy_top1 = result.results_dict[result.keys[0]]\n",
    "accuracy_top5 = result.results_dict[result.keys[1]]\n",
    "\n",
    "print(f\"TP: {TP:.0f}\")\n",
    "print(f\"TN: {TN:.0f}\")\n",
    "print(f\"FP: {FP:.0f}\")\n",
    "print(f\"FN: {FN:.0f}\")\n",
    "print(f\"accuracy: {accuracy:.4f}\")\n",
    "print(f\"precision: {precision:.4f}\")\n",
    "print(f\"recall: {recall:.4f}\")\n",
    "print(f\"f1: {f1:.4f}\")\n",
    "print(f\"specificity: {specificity:.4f}\") "
   ]
  },
  {
   "cell_type": "markdown",
   "metadata": {},
   "source": [
    "### Результаты модели на тестовых данных"
   ]
  },
  {
   "cell_type": "code",
   "execution_count": null,
   "metadata": {},
   "outputs": [
    {
     "name": "stdout",
     "output_type": "stream",
     "text": [
      "Ultralytics 8.3.105 🚀 Python-3.11.11 torch-2.5.1 CUDA:0 (NVIDIA GeForce RTX 4070 SUPER, 12282MiB)\n",
      "YOLO11m-cls summary (fused): 57 layers, 10,344,194 parameters, 0 gradients\n",
      "\u001b[34m\u001b[1mtrain:\u001b[0m /home/pinea/work/YOLO_project/Main_data/train... found 3564 images in 2 classes ✅ \n",
      "\u001b[34m\u001b[1mval:\u001b[0m /home/pinea/work/YOLO_project/Main_data/val... found 465 images in 2 classes ✅ \n",
      "\u001b[34m\u001b[1mtest:\u001b[0m /home/pinea/work/YOLO_project/Main_data/test... found 104 images in 2 classes ✅ \n"
     ]
    },
    {
     "name": "stderr",
     "output_type": "stream",
     "text": [
      "\u001b[34m\u001b[1mtest: \u001b[0mScanning /home/pinea/work/YOLO_project/Main_data/test... 104 images, 0 corrupt: 100%|██████████| 104/104 [00:00<?, ?it/s]\n",
      "               classes   top1_acc   top5_acc: 100%|██████████| 7/7 [00:02<00:00,  3.07it/s]\n"
     ]
    },
    {
     "name": "stdout",
     "output_type": "stream",
     "text": [
      "                   all      0.606          1\n",
      "Speed: 4.6ms preprocess, 3.8ms inference, 0.0ms loss, 0.0ms postprocess per image\n",
      "Results saved to \u001b[1mruns/classify/val2\u001b[0m\n",
      "TP: 40\n",
      "TN: 23\n",
      "FP: 28\n",
      "FN: 13\n",
      "accuracy: 0.6058\n",
      "precision: 0.5882\n",
      "recall: 0.7547\n",
      "f1: 0.6612\n",
      "specificity: 0.4510\n"
     ]
    }
   ],
   "source": [
    "# .val - режим валидации, позволяющий оценить качество обученной модели\n",
    "result = model_.val(split=\"test\")\n",
    "confusion_matrix_obj = result.confusion_matrix\n",
    "confusion_matrix = np.array(confusion_matrix_obj.matrix)\n",
    "\n",
    "# извлечение значений из матрици ошибок\n",
    "TP = confusion_matrix_obj.tp_fp()[0][0] # True Positives - правильно классифицированные фейки\n",
    "TN = confusion_matrix_obj.tp_fp()[0][1] # True Negatives - правильно классифицированные реальные изображения\n",
    "FP = confusion_matrix_obj.tp_fp()[1][0] # False Positives - неправильно классифицированные как фейк\n",
    "FN = confusion_matrix_obj.tp_fp()[1][1] # False Negatives - неправильно классифицированные как реальные  \n",
    "\n",
    "# подсчет метрик для оценки качества\n",
    "precision = TP/(TP+FP)\n",
    "recall = TP/(TP+FN)\n",
    "f1 = (2 * precision * recall)/(precision+recall)\n",
    "accuracy = (TP+TN) / confusion_matrix.sum()\n",
    "specificity = TN / (TN+FP)\n",
    "\n",
    "print(f\"TP: {TP:.0f}\")\n",
    "print(f\"TN: {TN:.0f}\")\n",
    "print(f\"FP: {FP:.0f}\")\n",
    "print(f\"FN: {FN:.0f}\")\n",
    "print(f\"accuracy: {accuracy:.4f}\")\n",
    "print(f\"precision: {precision:.4f}\")\n",
    "print(f\"recall: {recall:.4f}\")\n",
    "print(f\"f1: {f1:.4f}\")\n",
    "print(f\"specificity: {specificity:.4f}\") "
   ]
  },
  {
   "cell_type": "markdown",
   "metadata": {},
   "source": [
    "### Результаты модели на другом датасете"
   ]
  },
  {
   "cell_type": "code",
   "execution_count": null,
   "metadata": {},
   "outputs": [
    {
     "name": "stdout",
     "output_type": "stream",
     "text": [
      "TP: 40.0\n",
      "TN: 23.0\n",
      "FP: 28.0\n",
      "FN: 13.0\n",
      "accuracy: 0.6058\n",
      "precision: 0.5882\n",
      "recall: 0.7547\n",
      "f1: 0.6612\n",
      "specificity: 0.4510\n"
     ]
    }
   ],
   "source": [
    "def result_on_another_data(model): \n",
    "    \"\"\"Метод для подсчета метрик, т.к. модель yolo не предпологает, \n",
    "    что в режиме val, для просмотра метрик, будет использован другой датасет\"\"\"\n",
    "\n",
    "    fake_predictions = model.predict(\"/home/pinea/work/YOLO_project/DATA/val/fake/\", save=False, verbose=False)\n",
    "    real_predictions = model.predict(\"/home/pinea/work/YOLO_project/DATA/val/real/\", save=False, verbose=False)  \n",
    "    \n",
    "    value = {\n",
    "        'TP': 0,  # True Positives - правильно классифицированные фейки\n",
    "        'TN': 0,  # True Negatives - правильно классифицированные реальные изображения\n",
    "        'FP': 0,  # False Positives - неправильно классифицированные как фейк\n",
    "        'FN': 0   # False Negatives - неправильно классифицированные как реальные\n",
    "    }\n",
    "\n",
    "    # Обработка предсказаний для фeйковых изображений\n",
    "    for prediction in fake_predictions:\n",
    "        class_name = prediction.names[prediction.probs.top1]\n",
    "        value['TP' if class_name == \"fake\" else 'FN'] += 1\n",
    "    \n",
    "    # Обработка предсказаний для реальных изображений\n",
    "    for prediction in real_predictions:\n",
    "        class_name = prediction.names[prediction.probs.top1]\n",
    "        value['TN' if class_name == \"real\" else 'FP'] += 1\n",
    "\n",
    "    # подсчет метрик для оценки качества\n",
    "    precision = TP/(TP+FP)\n",
    "    recall = TP/(TP+FN)\n",
    "    f1 = (2 * precision * recall)/(precision+recall)\n",
    "    accuracy = (TP+TN) / (TP+TN+FP+FN)\n",
    "    specificity = TN / (TN+FP)\n",
    "\n",
    "    print(f\"TP: {TP}\")\n",
    "    print(f\"TN: {TN}\")\n",
    "    print(f\"FP: {FP}\")\n",
    "    print(f\"FN: {FN}\")\n",
    "    print(f\"accuracy: {accuracy:.4f}\")\n",
    "    print(f\"precision: {precision:.4f}\")\n",
    "    print(f\"recall: {recall:.4f}\")\n",
    "    print(f\"f1: {f1:.4f}\")\n",
    "    print(f\"specificity: {specificity:.4f}\")\n",
    "\n",
    "result_on_another_data(model_)"
   ]
  }
 ],
 "metadata": {
  "kernelspec": {
   "display_name": "u-env",
   "language": "python",
   "name": "python3"
  },
  "language_info": {
   "codemirror_mode": {
    "name": "ipython",
    "version": 3
   },
   "file_extension": ".py",
   "mimetype": "text/x-python",
   "name": "python",
   "nbconvert_exporter": "python",
   "pygments_lexer": "ipython3",
   "version": "3.11.11"
  }
 },
 "nbformat": 4,
 "nbformat_minor": 2
}
